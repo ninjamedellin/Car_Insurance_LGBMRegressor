{
 "cells": [
  {
   "cell_type": "code",
   "execution_count": 14,
   "metadata": {},
   "outputs": [],
   "source": [
    "import pandas as pd\n",
    "import matplotlib as plt\n",
    "import seaborn as sns\n",
    "import plotly.express as px"
   ]
  },
  {
   "cell_type": "code",
   "execution_count": 15,
   "metadata": {},
   "outputs": [],
   "source": [
    "from sklearn import neighbors, preprocessing\n",
    "from sklearn.model_selection import train_test_split\n",
    "from sklearn.metrics import accuracy_score"
   ]
  },
  {
   "cell_type": "code",
   "execution_count": 16,
   "metadata": {},
   "outputs": [],
   "source": [
    "pd.options.display.max_columns = None"
   ]
  },
  {
   "cell_type": "markdown",
   "metadata": {},
   "source": [
    "Import the DataBase cleaned\n"
   ]
  },
  {
   "cell_type": "code",
   "execution_count": 17,
   "metadata": {},
   "outputs": [],
   "source": [
    "df = pd.read_csv('DB_Valor_Prima_Anual_Cleaned.csv')"
   ]
  },
  {
   "cell_type": "markdown",
   "metadata": {},
   "source": [
    "Cleaned dataset"
   ]
  },
  {
   "cell_type": "code",
   "execution_count": 18,
   "metadata": {},
   "outputs": [
    {
     "data": {
      "text/html": [
       "<div>\n",
       "<style scoped>\n",
       "    .dataframe tbody tr th:only-of-type {\n",
       "        vertical-align: middle;\n",
       "    }\n",
       "\n",
       "    .dataframe tbody tr th {\n",
       "        vertical-align: top;\n",
       "    }\n",
       "\n",
       "    .dataframe thead th {\n",
       "        text-align: right;\n",
       "    }\n",
       "</style>\n",
       "<table border=\"1\" class=\"dataframe\">\n",
       "  <thead>\n",
       "    <tr style=\"text-align: right;\">\n",
       "      <th></th>\n",
       "      <th>Tipo_poliza</th>\n",
       "      <th>Valor_Asegurado</th>\n",
       "      <th>Fecha_Emisión</th>\n",
       "      <th>Fecha_Inicio</th>\n",
       "      <th>Fecha_fin</th>\n",
       "      <th>Valor_prima_Anual</th>\n",
       "      <th>Valor_asegurado_Vehiculo</th>\n",
       "      <th>Ciudad</th>\n",
       "      <th>DEPARTAMENTO</th>\n",
       "      <th>OCUPACION</th>\n",
       "      <th>EDAD</th>\n",
       "      <th>MARCA</th>\n",
       "      <th>REF1</th>\n",
       "      <th>REF2</th>\n",
       "      <th>REF3</th>\n",
       "      <th>CLASE</th>\n",
       "      <th>Modelo_del_Vehiculo</th>\n",
       "      <th>COLOR</th>\n",
       "      <th>GENERO</th>\n",
       "    </tr>\n",
       "  </thead>\n",
       "  <tbody>\n",
       "    <tr>\n",
       "      <th>0</th>\n",
       "      <td>Renovacion</td>\n",
       "      <td>684689000</td>\n",
       "      <td>2011-10-10</td>\n",
       "      <td>2011-11-21</td>\n",
       "      <td>2012-11-21</td>\n",
       "      <td>782949.0</td>\n",
       "      <td>18800000</td>\n",
       "      <td>CARTAGENA</td>\n",
       "      <td>BOLIVAR</td>\n",
       "      <td>EMPLEADO(A)</td>\n",
       "      <td>45.0</td>\n",
       "      <td>CHEVROLET</td>\n",
       "      <td>AVEO</td>\n",
       "      <td>FAMILY</td>\n",
       "      <td>MT 1500CC 4P AA</td>\n",
       "      <td>AUTOMOVIL</td>\n",
       "      <td>2010.0</td>\n",
       "      <td>NEGRO EBONY</td>\n",
       "      <td>MASCULINO</td>\n",
       "    </tr>\n",
       "    <tr>\n",
       "      <th>1</th>\n",
       "      <td>Nuevo</td>\n",
       "      <td>965205600</td>\n",
       "      <td>2011-10-10</td>\n",
       "      <td>2011-10-05</td>\n",
       "      <td>2012-10-05</td>\n",
       "      <td>715824.0</td>\n",
       "      <td>24900000</td>\n",
       "      <td>BOGOTA D.C.</td>\n",
       "      <td>CUNDINAMARCA</td>\n",
       "      <td>EMPLEADO(A)</td>\n",
       "      <td>41.0</td>\n",
       "      <td>CHEVROLET</td>\n",
       "      <td>AVEO EMOTION</td>\n",
       "      <td>1.6L</td>\n",
       "      <td>MT 1600CC AA 2AB ABS</td>\n",
       "      <td>AUTOMOVIL</td>\n",
       "      <td>2009.0</td>\n",
       "      <td>BLANCO ARCO BICAPA</td>\n",
       "      <td>MASCULINO</td>\n",
       "    </tr>\n",
       "    <tr>\n",
       "      <th>2</th>\n",
       "      <td>Nuevo</td>\n",
       "      <td>640605600</td>\n",
       "      <td>2011-10-10</td>\n",
       "      <td>2011-10-03</td>\n",
       "      <td>2012-10-03</td>\n",
       "      <td>740816.0</td>\n",
       "      <td>12600000</td>\n",
       "      <td>MEDELLIN</td>\n",
       "      <td>ANTIOQUIA</td>\n",
       "      <td>INDEPENDIENTE</td>\n",
       "      <td>33.0</td>\n",
       "      <td>RENAULT</td>\n",
       "      <td>CLIO II</td>\n",
       "      <td>F.II EXPRESSION</td>\n",
       "      <td>MT 1400CC PACK</td>\n",
       "      <td>AUTOMOVIL</td>\n",
       "      <td>2002.0</td>\n",
       "      <td>BEIGE CARRARA</td>\n",
       "      <td>FEMENINO</td>\n",
       "    </tr>\n",
       "  </tbody>\n",
       "</table>\n",
       "</div>"
      ],
      "text/plain": [
       "  Tipo_poliza  Valor_Asegurado Fecha_Emisión Fecha_Inicio   Fecha_fin  \\\n",
       "0  Renovacion        684689000    2011-10-10   2011-11-21  2012-11-21   \n",
       "1       Nuevo        965205600    2011-10-10   2011-10-05  2012-10-05   \n",
       "2       Nuevo        640605600    2011-10-10   2011-10-03  2012-10-03   \n",
       "\n",
       "   Valor_prima_Anual  Valor_asegurado_Vehiculo       Ciudad  DEPARTAMENTO  \\\n",
       "0           782949.0                  18800000    CARTAGENA       BOLIVAR   \n",
       "1           715824.0                  24900000  BOGOTA D.C.  CUNDINAMARCA   \n",
       "2           740816.0                  12600000     MEDELLIN     ANTIOQUIA   \n",
       "\n",
       "       OCUPACION  EDAD      MARCA          REF1             REF2  \\\n",
       "0    EMPLEADO(A)  45.0  CHEVROLET          AVEO           FAMILY   \n",
       "1    EMPLEADO(A)  41.0  CHEVROLET  AVEO EMOTION             1.6L   \n",
       "2  INDEPENDIENTE  33.0    RENAULT       CLIO II  F.II EXPRESSION   \n",
       "\n",
       "                   REF3      CLASE  Modelo_del_Vehiculo               COLOR  \\\n",
       "0       MT 1500CC 4P AA  AUTOMOVIL               2010.0         NEGRO EBONY   \n",
       "1  MT 1600CC AA 2AB ABS  AUTOMOVIL               2009.0  BLANCO ARCO BICAPA   \n",
       "2        MT 1400CC PACK  AUTOMOVIL               2002.0       BEIGE CARRARA   \n",
       "\n",
       "      GENERO  \n",
       "0  MASCULINO  \n",
       "1  MASCULINO  \n",
       "2   FEMENINO  "
      ]
     },
     "execution_count": 18,
     "metadata": {},
     "output_type": "execute_result"
    }
   ],
   "source": [
    "df.head(3)"
   ]
  },
  {
   "cell_type": "code",
   "execution_count": 19,
   "metadata": {},
   "outputs": [
    {
     "name": "stdout",
     "output_type": "stream",
     "text": [
      "<class 'pandas.core.frame.DataFrame'>\n",
      "RangeIndex: 120822 entries, 0 to 120821\n",
      "Data columns (total 19 columns):\n",
      " #   Column                    Non-Null Count   Dtype  \n",
      "---  ------                    --------------   -----  \n",
      " 0   Tipo_poliza               120822 non-null  object \n",
      " 1   Valor_Asegurado           120822 non-null  int64  \n",
      " 2   Fecha_Emisión             120822 non-null  object \n",
      " 3   Fecha_Inicio              120822 non-null  object \n",
      " 4   Fecha_fin                 120822 non-null  object \n",
      " 5   Valor_prima_Anual         120822 non-null  float64\n",
      " 6   Valor_asegurado_Vehiculo  120822 non-null  int64  \n",
      " 7   Ciudad                    120822 non-null  object \n",
      " 8   DEPARTAMENTO              120822 non-null  object \n",
      " 9   OCUPACION                 120822 non-null  object \n",
      " 10  EDAD                      120822 non-null  float64\n",
      " 11  MARCA                     120822 non-null  object \n",
      " 12  REF1                      120822 non-null  object \n",
      " 13  REF2                      120822 non-null  object \n",
      " 14  REF3                      120822 non-null  object \n",
      " 15  CLASE                     120822 non-null  object \n",
      " 16  Modelo_del_Vehiculo       120822 non-null  float64\n",
      " 17  COLOR                     120822 non-null  object \n",
      " 18  GENERO                    120822 non-null  object \n",
      "dtypes: float64(3), int64(2), object(14)\n",
      "memory usage: 17.5+ MB\n"
     ]
    }
   ],
   "source": [
    "df.info()"
   ]
  },
  {
   "cell_type": "markdown",
   "metadata": {},
   "source": [
    "## 1st FEATURE ENGINEERING - CREATE NEW DATA COLUMNS"
   ]
  },
  {
   "cell_type": "markdown",
   "metadata": {},
   "source": [
    "I need to create new features that improve the modeling, so I decided to extract Year an Month from the datetime columns"
   ]
  },
  {
   "cell_type": "code",
   "execution_count": 20,
   "metadata": {},
   "outputs": [],
   "source": [
    "df['Y_Fecha_Emisión'] = pd.DatetimeIndex(df['Fecha_Emisión']).year\n",
    "\n",
    "df['M_Fecha_Emisión'] = pd.DatetimeIndex(df['Fecha_Emisión']).month\n",
    "\n",
    "df['Y_Fecha_Inicio'] = pd.DatetimeIndex(df['Fecha_Inicio']).year\n",
    "\n",
    "df['M_Fecha_Inicio'] = pd.DatetimeIndex(df['Fecha_Inicio']).month\n",
    "\n",
    "df['Y_Fecha_fin'] = pd.DatetimeIndex(df['Fecha_fin']).year\n",
    "\n",
    "df['M_Fecha_fin'] = pd.DatetimeIndex(df['Fecha_fin']).month"
   ]
  },
  {
   "cell_type": "code",
   "execution_count": 21,
   "metadata": {},
   "outputs": [
    {
     "data": {
      "text/html": [
       "<div>\n",
       "<style scoped>\n",
       "    .dataframe tbody tr th:only-of-type {\n",
       "        vertical-align: middle;\n",
       "    }\n",
       "\n",
       "    .dataframe tbody tr th {\n",
       "        vertical-align: top;\n",
       "    }\n",
       "\n",
       "    .dataframe thead th {\n",
       "        text-align: right;\n",
       "    }\n",
       "</style>\n",
       "<table border=\"1\" class=\"dataframe\">\n",
       "  <thead>\n",
       "    <tr style=\"text-align: right;\">\n",
       "      <th></th>\n",
       "      <th>Tipo_poliza</th>\n",
       "      <th>Valor_Asegurado</th>\n",
       "      <th>Fecha_Emisión</th>\n",
       "      <th>Fecha_Inicio</th>\n",
       "      <th>Fecha_fin</th>\n",
       "      <th>Valor_prima_Anual</th>\n",
       "      <th>Valor_asegurado_Vehiculo</th>\n",
       "      <th>Ciudad</th>\n",
       "      <th>DEPARTAMENTO</th>\n",
       "      <th>OCUPACION</th>\n",
       "      <th>EDAD</th>\n",
       "      <th>MARCA</th>\n",
       "      <th>REF1</th>\n",
       "      <th>REF2</th>\n",
       "      <th>REF3</th>\n",
       "      <th>CLASE</th>\n",
       "      <th>Modelo_del_Vehiculo</th>\n",
       "      <th>COLOR</th>\n",
       "      <th>GENERO</th>\n",
       "      <th>Y_Fecha_Emisión</th>\n",
       "      <th>M_Fecha_Emisión</th>\n",
       "      <th>Y_Fecha_Inicio</th>\n",
       "      <th>M_Fecha_Inicio</th>\n",
       "      <th>Y_Fecha_fin</th>\n",
       "      <th>M_Fecha_fin</th>\n",
       "    </tr>\n",
       "  </thead>\n",
       "  <tbody>\n",
       "    <tr>\n",
       "      <th>0</th>\n",
       "      <td>Renovacion</td>\n",
       "      <td>684689000</td>\n",
       "      <td>2011-10-10</td>\n",
       "      <td>2011-11-21</td>\n",
       "      <td>2012-11-21</td>\n",
       "      <td>782949.0</td>\n",
       "      <td>18800000</td>\n",
       "      <td>CARTAGENA</td>\n",
       "      <td>BOLIVAR</td>\n",
       "      <td>EMPLEADO(A)</td>\n",
       "      <td>45.0</td>\n",
       "      <td>CHEVROLET</td>\n",
       "      <td>AVEO</td>\n",
       "      <td>FAMILY</td>\n",
       "      <td>MT 1500CC 4P AA</td>\n",
       "      <td>AUTOMOVIL</td>\n",
       "      <td>2010.0</td>\n",
       "      <td>NEGRO EBONY</td>\n",
       "      <td>MASCULINO</td>\n",
       "      <td>2011</td>\n",
       "      <td>10</td>\n",
       "      <td>2011</td>\n",
       "      <td>11</td>\n",
       "      <td>2012</td>\n",
       "      <td>11</td>\n",
       "    </tr>\n",
       "    <tr>\n",
       "      <th>1</th>\n",
       "      <td>Nuevo</td>\n",
       "      <td>965205600</td>\n",
       "      <td>2011-10-10</td>\n",
       "      <td>2011-10-05</td>\n",
       "      <td>2012-10-05</td>\n",
       "      <td>715824.0</td>\n",
       "      <td>24900000</td>\n",
       "      <td>BOGOTA D.C.</td>\n",
       "      <td>CUNDINAMARCA</td>\n",
       "      <td>EMPLEADO(A)</td>\n",
       "      <td>41.0</td>\n",
       "      <td>CHEVROLET</td>\n",
       "      <td>AVEO EMOTION</td>\n",
       "      <td>1.6L</td>\n",
       "      <td>MT 1600CC AA 2AB ABS</td>\n",
       "      <td>AUTOMOVIL</td>\n",
       "      <td>2009.0</td>\n",
       "      <td>BLANCO ARCO BICAPA</td>\n",
       "      <td>MASCULINO</td>\n",
       "      <td>2011</td>\n",
       "      <td>10</td>\n",
       "      <td>2011</td>\n",
       "      <td>10</td>\n",
       "      <td>2012</td>\n",
       "      <td>10</td>\n",
       "    </tr>\n",
       "    <tr>\n",
       "      <th>2</th>\n",
       "      <td>Nuevo</td>\n",
       "      <td>640605600</td>\n",
       "      <td>2011-10-10</td>\n",
       "      <td>2011-10-03</td>\n",
       "      <td>2012-10-03</td>\n",
       "      <td>740816.0</td>\n",
       "      <td>12600000</td>\n",
       "      <td>MEDELLIN</td>\n",
       "      <td>ANTIOQUIA</td>\n",
       "      <td>INDEPENDIENTE</td>\n",
       "      <td>33.0</td>\n",
       "      <td>RENAULT</td>\n",
       "      <td>CLIO II</td>\n",
       "      <td>F.II EXPRESSION</td>\n",
       "      <td>MT 1400CC PACK</td>\n",
       "      <td>AUTOMOVIL</td>\n",
       "      <td>2002.0</td>\n",
       "      <td>BEIGE CARRARA</td>\n",
       "      <td>FEMENINO</td>\n",
       "      <td>2011</td>\n",
       "      <td>10</td>\n",
       "      <td>2011</td>\n",
       "      <td>10</td>\n",
       "      <td>2012</td>\n",
       "      <td>10</td>\n",
       "    </tr>\n",
       "  </tbody>\n",
       "</table>\n",
       "</div>"
      ],
      "text/plain": [
       "  Tipo_poliza  Valor_Asegurado Fecha_Emisión Fecha_Inicio   Fecha_fin  \\\n",
       "0  Renovacion        684689000    2011-10-10   2011-11-21  2012-11-21   \n",
       "1       Nuevo        965205600    2011-10-10   2011-10-05  2012-10-05   \n",
       "2       Nuevo        640605600    2011-10-10   2011-10-03  2012-10-03   \n",
       "\n",
       "   Valor_prima_Anual  Valor_asegurado_Vehiculo       Ciudad  DEPARTAMENTO  \\\n",
       "0           782949.0                  18800000    CARTAGENA       BOLIVAR   \n",
       "1           715824.0                  24900000  BOGOTA D.C.  CUNDINAMARCA   \n",
       "2           740816.0                  12600000     MEDELLIN     ANTIOQUIA   \n",
       "\n",
       "       OCUPACION  EDAD      MARCA          REF1             REF2  \\\n",
       "0    EMPLEADO(A)  45.0  CHEVROLET          AVEO           FAMILY   \n",
       "1    EMPLEADO(A)  41.0  CHEVROLET  AVEO EMOTION             1.6L   \n",
       "2  INDEPENDIENTE  33.0    RENAULT       CLIO II  F.II EXPRESSION   \n",
       "\n",
       "                   REF3      CLASE  Modelo_del_Vehiculo               COLOR  \\\n",
       "0       MT 1500CC 4P AA  AUTOMOVIL               2010.0         NEGRO EBONY   \n",
       "1  MT 1600CC AA 2AB ABS  AUTOMOVIL               2009.0  BLANCO ARCO BICAPA   \n",
       "2        MT 1400CC PACK  AUTOMOVIL               2002.0       BEIGE CARRARA   \n",
       "\n",
       "      GENERO  Y_Fecha_Emisión  M_Fecha_Emisión  Y_Fecha_Inicio  \\\n",
       "0  MASCULINO             2011               10            2011   \n",
       "1  MASCULINO             2011               10            2011   \n",
       "2   FEMENINO             2011               10            2011   \n",
       "\n",
       "   M_Fecha_Inicio  Y_Fecha_fin  M_Fecha_fin  \n",
       "0              11         2012           11  \n",
       "1              10         2012           10  \n",
       "2              10         2012           10  "
      ]
     },
     "execution_count": 21,
     "metadata": {},
     "output_type": "execute_result"
    }
   ],
   "source": [
    "df.head(3)"
   ]
  },
  {
   "cell_type": "markdown",
   "metadata": {},
   "source": [
    "# 1. TRAIN TEST SPLIT"
   ]
  },
  {
   "cell_type": "markdown",
   "metadata": {},
   "source": [
    "Target variable = Valor_prima_Anual"
   ]
  },
  {
   "cell_type": "code",
   "execution_count": null,
   "metadata": {},
   "outputs": [],
   "source": [
    "X = df.drop(['Valor_prima_Anual', 'REF1', 'REF2', 'REF3', 'MARCA', 'Fecha_Emisión', 'Fecha_Inicio', 'Fecha_fin'], axis=1)\n",
    "Y = df['Valor_prima_Anual']\n",
    "\n",
    "X_train, X_test, y_train, y_test = train_test_split(X, Y, test_size=0.2, random_state=42)"
   ]
  },
  {
   "cell_type": "code",
   "execution_count": null,
   "metadata": {},
   "outputs": [],
   "source": [
    "X_train.head(2)"
   ]
  },
  {
   "cell_type": "markdown",
   "metadata": {},
   "source": [
    "# PIPELINE TO TRANSFORM VARIABLES"
   ]
  },
  {
   "cell_type": "code",
   "execution_count": null,
   "metadata": {},
   "outputs": [],
   "source": [
    "from sklearn.pipeline import Pipeline\n",
    "from sklearn.impute import SimpleImputer\n",
    "from sklearn.preprocessing import StandardScaler, OneHotEncoder, PolynomialFeatures\n",
    "\n",
    "numeric_transformer = Pipeline(steps=[\n",
    "    ('imputer', SimpleImputer(strategy='median')),\n",
    "    ('poly', PolynomialFeatures(degree=2)),\n",
    "    ('scaler', StandardScaler())])\n",
    "categorical_transformer = Pipeline(steps=[\n",
    "    ('imputer', SimpleImputer(strategy='constant', fill_value='missing')),\n",
    "    ('onehot', OneHotEncoder(handle_unknown='ignore'))])"
   ]
  },
  {
   "cell_type": "code",
   "execution_count": null,
   "metadata": {},
   "outputs": [],
   "source": [
    "numeric_features = X_train.select_dtypes(include=['int64', 'float64']).columns\n",
    "categorical_features = X_train.select_dtypes(include=['object', 'category']).columns\n",
    "\n",
    "from sklearn.compose import ColumnTransformer\n",
    "\n",
    "preprocessor = ColumnTransformer(\n",
    "    transformers=[\n",
    "        ('num', numeric_transformer, numeric_features),\n",
    "        ('cat', categorical_transformer, categorical_features)])"
   ]
  },
  {
   "cell_type": "markdown",
   "metadata": {},
   "source": [
    "# 1. MODEL CREATION"
   ]
  },
  {
   "cell_type": "markdown",
   "metadata": {},
   "source": [
    "## RUN #1"
   ]
  },
  {
   "cell_type": "markdown",
   "metadata": {},
   "source": [
    "X = df.drop(['Valor_prima_Anual', 'REF1', 'REF2', 'REF3', 'MARCA', 'Fecha_Emisión', 'Fecha_Inicio', 'Fecha_fin'], axis=1) <br>\n",
    "Y = df['Valor_prima_Anual']"
   ]
  },
  {
   "cell_type": "code",
   "execution_count": null,
   "metadata": {},
   "outputs": [],
   "source": [
    "from sklearn.metrics import mean_absolute_error, mean_squared_error, r2_score\n",
    "\n",
    "from sklearn.linear_model import LinearRegression\n",
    "from sklearn.neighbors import KNeighborsRegressor\n",
    "from sklearn.svm import SVR, LinearSVR, NuSVR\n",
    "from sklearn.tree import DecisionTreeRegressor\n",
    "from sklearn.ensemble import RandomForestRegressor, AdaBoostRegressor, GradientBoostingRegressor\n",
    "\n",
    "from sklearn.discriminant_analysis import LinearDiscriminantAnalysis\n",
    "from sklearn.discriminant_analysis import QuadraticDiscriminantAnalysis\n",
    "\n",
    "from xgboost import XGBRegressor\n",
    "from lightgbm import LGBMRegressor\n",
    "\n",
    "regressors = [\n",
    "    LinearRegression(),\n",
    "    # KNeighborsRegressor(3),\n",
    "    # SVR(kernel=\"rbf\", C=0.025),\n",
    "    # DecisionTreeRegressor(),\n",
    "    # RandomForestRegressor(),\n",
    "    # AdaBoostRegressor(),\n",
    "    # GradientBoostingRegressor(),\n",
    "    # XGBRegressor(),\n",
    "    LGBMRegressor()\n",
    "    ]\n",
    "for regressor in regressors:\n",
    "    pipe = Pipeline(steps=[('preprocessor', preprocessor),\n",
    "                      ('regressor', regressor)])\n",
    "    pipe.fit(X_train, y_train)   \n",
    "    y_pred = pipe.predict(X_test)\n",
    "    print(regressor)\n",
    "    print(\"model MAE : \" , mean_absolute_error(y_test, y_pred))\n",
    "    print(\"model MSE : \" ,  mean_squared_error(y_test, y_pred))\n",
    "    print(\"model R2  : \" ,  r2_score(y_test, y_pred))"
   ]
  },
  {
   "cell_type": "markdown",
   "metadata": {},
   "source": [
    "## RUN #2"
   ]
  },
  {
   "cell_type": "markdown",
   "metadata": {},
   "source": [
    "## 2nd FEATURE ENGINEERING - CREATE NEW DATA COLUMNS"
   ]
  },
  {
   "cell_type": "code",
   "execution_count": 22,
   "metadata": {},
   "outputs": [
    {
     "data": {
      "text/plain": [
       "0         MT\n",
       "1         MT\n",
       "2         MT\n",
       "3         MT\n",
       "4         MT\n",
       "          ..\n",
       "120817    MT\n",
       "120818    MT\n",
       "120819    AT\n",
       "120820    MT\n",
       "120821    MT\n",
       "Name: MT_AT_TP_REF3, Length: 120822, dtype: object"
      ]
     },
     "execution_count": 22,
     "metadata": {},
     "output_type": "execute_result"
    }
   ],
   "source": [
    "df['MT_AT_TP_REF3'] = df['REF3'].astype(str).str[0:2]\n",
    "df['MT_AT_TP_REF3']"
   ]
  },
  {
   "cell_type": "code",
   "execution_count": 23,
   "metadata": {},
   "outputs": [
    {
     "name": "stdout",
     "output_type": "stream",
     "text": [
      "<class 'pandas.core.frame.DataFrame'>\n",
      "RangeIndex: 120822 entries, 0 to 120821\n",
      "Data columns (total 26 columns):\n",
      " #   Column                    Non-Null Count   Dtype  \n",
      "---  ------                    --------------   -----  \n",
      " 0   Tipo_poliza               120822 non-null  object \n",
      " 1   Valor_Asegurado           120822 non-null  int64  \n",
      " 2   Fecha_Emisión             120822 non-null  object \n",
      " 3   Fecha_Inicio              120822 non-null  object \n",
      " 4   Fecha_fin                 120822 non-null  object \n",
      " 5   Valor_prima_Anual         120822 non-null  float64\n",
      " 6   Valor_asegurado_Vehiculo  120822 non-null  int64  \n",
      " 7   Ciudad                    120822 non-null  object \n",
      " 8   DEPARTAMENTO              120822 non-null  object \n",
      " 9   OCUPACION                 120822 non-null  object \n",
      " 10  EDAD                      120822 non-null  float64\n",
      " 11  MARCA                     120822 non-null  object \n",
      " 12  REF1                      120822 non-null  object \n",
      " 13  REF2                      120822 non-null  object \n",
      " 14  REF3                      120822 non-null  object \n",
      " 15  CLASE                     120822 non-null  object \n",
      " 16  Modelo_del_Vehiculo       120822 non-null  float64\n",
      " 17  COLOR                     120822 non-null  object \n",
      " 18  GENERO                    120822 non-null  object \n",
      " 19  Y_Fecha_Emisión           120822 non-null  int64  \n",
      " 20  M_Fecha_Emisión           120822 non-null  int64  \n",
      " 21  Y_Fecha_Inicio            120822 non-null  int64  \n",
      " 22  M_Fecha_Inicio            120822 non-null  int64  \n",
      " 23  Y_Fecha_fin               120822 non-null  int64  \n",
      " 24  M_Fecha_fin               120822 non-null  int64  \n",
      " 25  MT_AT_TP_REF3             120822 non-null  object \n",
      "dtypes: float64(3), int64(8), object(15)\n",
      "memory usage: 24.0+ MB\n"
     ]
    }
   ],
   "source": [
    "df.info()"
   ]
  },
  {
   "cell_type": "code",
   "execution_count": 24,
   "metadata": {},
   "outputs": [],
   "source": [
    "X = df.drop(['Valor_prima_Anual', 'REF1', 'REF2', 'REF3', 'MARCA', 'Fecha_Emisión', 'Fecha_Inicio', 'Fecha_fin'], axis=1)\n",
    "Y = df['Valor_prima_Anual']\n",
    "\n",
    "X_train, X_test, y_train, y_test = train_test_split(X, Y, test_size=0.2, random_state=42)"
   ]
  },
  {
   "cell_type": "code",
   "execution_count": null,
   "metadata": {},
   "outputs": [],
   "source": [
    "X_train.head(2)"
   ]
  },
  {
   "cell_type": "code",
   "execution_count": null,
   "metadata": {},
   "outputs": [],
   "source": [
    "numeric_features = X_train.select_dtypes(include=['int64', 'float64']).columns\n",
    "categorical_features = X_train.select_dtypes(include=['object', 'category']).columns\n",
    "\n",
    "from sklearn.compose import ColumnTransformer\n",
    "\n",
    "preprocessor = ColumnTransformer(\n",
    "    transformers=[\n",
    "        ('num', numeric_transformer, numeric_features),\n",
    "        ('cat', categorical_transformer, categorical_features)])"
   ]
  },
  {
   "cell_type": "code",
   "execution_count": null,
   "metadata": {},
   "outputs": [],
   "source": [
    "numeric_features"
   ]
  },
  {
   "cell_type": "code",
   "execution_count": null,
   "metadata": {},
   "outputs": [],
   "source": [
    "categorical_features"
   ]
  },
  {
   "cell_type": "code",
   "execution_count": null,
   "metadata": {},
   "outputs": [],
   "source": [
    "from sklearn.metrics import mean_absolute_error, mean_squared_error, r2_score\n",
    "\n",
    "from sklearn.linear_model import LinearRegression\n",
    "from sklearn.neighbors import KNeighborsRegressor\n",
    "from sklearn.svm import SVR, LinearSVR, NuSVR\n",
    "from sklearn.tree import DecisionTreeRegressor\n",
    "from sklearn.ensemble import RandomForestRegressor, AdaBoostRegressor, GradientBoostingRegressor\n",
    "\n",
    "from sklearn.discriminant_analysis import LinearDiscriminantAnalysis\n",
    "from sklearn.discriminant_analysis import QuadraticDiscriminantAnalysis\n",
    "\n",
    "from xgboost import XGBRegressor\n",
    "from lightgbm import LGBMRegressor\n",
    "\n",
    "regressors = [\n",
    "    LinearRegression(),\n",
    "    # KNeighborsRegressor(3),\n",
    "    # SVR(kernel=\"rbf\", C=0.025),\n",
    "    # DecisionTreeRegressor(),\n",
    "    # RandomForestRegressor(),\n",
    "    # AdaBoostRegressor(),\n",
    "    # GradientBoostingRegressor(),\n",
    "    # XGBRegressor(),\n",
    "    LGBMRegressor()\n",
    "    ]\n",
    "for regressor in regressors:\n",
    "    pipe = Pipeline(steps=[('preprocessor', preprocessor),\n",
    "                      ('regressor', regressor)])\n",
    "    pipe.fit(X_train, y_train)   \n",
    "    y_pred = pipe.predict(X_test)\n",
    "    print(regressor)\n",
    "    print(\"model MAE : \" , mean_absolute_error(y_test, y_pred))\n",
    "    print(\"model MSE : \" ,  mean_squared_error(y_test, y_pred))\n",
    "    print(\"model R2  : \" ,  r2_score(y_test, y_pred))"
   ]
  },
  {
   "cell_type": "markdown",
   "metadata": {},
   "source": [
    "## RUN #3"
   ]
  },
  {
   "cell_type": "markdown",
   "metadata": {},
   "source": [
    "## 3rd FEATURE ENGINEERING - CREATE NEW DATA COLUMNS"
   ]
  },
  {
   "cell_type": "code",
   "execution_count": 25,
   "metadata": {},
   "outputs": [],
   "source": [
    "df['CC_REF3'] = df['REF3'].str.extract('(\\d+)')\n",
    "df['CC_REF3'].unique()\n",
    "df['CC_REF3'] = df['CC_REF3'].astype('int64')"
   ]
  },
  {
   "cell_type": "code",
   "execution_count": null,
   "metadata": {},
   "outputs": [],
   "source": [
    "X = df.drop(['Valor_prima_Anual', 'REF1', 'REF2', 'REF3', 'MARCA', 'Fecha_Emisión', 'Fecha_Inicio', 'Fecha_fin'], axis=1)\n",
    "Y = df['Valor_prima_Anual']\n",
    "\n",
    "X_train, X_test, y_train, y_test = train_test_split(X, Y, test_size=0.2, random_state=42)"
   ]
  },
  {
   "cell_type": "code",
   "execution_count": null,
   "metadata": {},
   "outputs": [],
   "source": [
    "X_train.head(2)"
   ]
  },
  {
   "cell_type": "code",
   "execution_count": null,
   "metadata": {},
   "outputs": [],
   "source": [
    "numeric_features = X_train.select_dtypes(include=['int64', 'float64']).columns\n",
    "categorical_features = X_train.select_dtypes(include=['object', 'category']).columns\n",
    "\n",
    "from sklearn.compose import ColumnTransformer\n",
    "\n",
    "preprocessor = ColumnTransformer(\n",
    "    transformers=[\n",
    "        ('num', numeric_transformer, numeric_features),\n",
    "        ('cat', categorical_transformer, categorical_features)])"
   ]
  },
  {
   "cell_type": "code",
   "execution_count": null,
   "metadata": {},
   "outputs": [],
   "source": [
    "from sklearn.metrics import mean_absolute_error, mean_squared_error, r2_score\n",
    "\n",
    "from sklearn.linear_model import LinearRegression\n",
    "from sklearn.neighbors import KNeighborsRegressor\n",
    "from sklearn.svm import SVR, LinearSVR, NuSVR\n",
    "from sklearn.tree import DecisionTreeRegressor\n",
    "from sklearn.ensemble import RandomForestRegressor, AdaBoostRegressor, GradientBoostingRegressor\n",
    "\n",
    "from sklearn.discriminant_analysis import LinearDiscriminantAnalysis\n",
    "from sklearn.discriminant_analysis import QuadraticDiscriminantAnalysis\n",
    "\n",
    "from xgboost import XGBRegressor\n",
    "from lightgbm import LGBMRegressor\n",
    "\n",
    "regressors = [\n",
    "    LinearRegression(),\n",
    "    # KNeighborsRegressor(3),\n",
    "    # SVR(kernel=\"rbf\", C=0.025),\n",
    "    # DecisionTreeRegressor(),\n",
    "    # RandomForestRegressor(),\n",
    "    # AdaBoostRegressor(),\n",
    "    # GradientBoostingRegressor(),\n",
    "    # XGBRegressor(),\n",
    "    LGBMRegressor()\n",
    "    ]\n",
    "for regressor in regressors:\n",
    "    pipe = Pipeline(steps=[('preprocessor', preprocessor),\n",
    "                      ('regressor', regressor)])\n",
    "    pipe.fit(X_train, y_train)   \n",
    "    y_pred = pipe.predict(X_test)\n",
    "    print(regressor)\n",
    "    print(\"model MAE : \" , mean_absolute_error(y_test, y_pred))\n",
    "    print(\"model MSE : \" ,  mean_squared_error(y_test, y_pred))\n",
    "    print(\"model R2  : \" ,  r2_score(y_test, y_pred))"
   ]
  },
  {
   "cell_type": "markdown",
   "metadata": {},
   "source": [
    "## RUN #4"
   ]
  },
  {
   "cell_type": "markdown",
   "metadata": {},
   "source": [
    "## 3rd FEATURE ENGINEERING - ADDING NEW DATA COLUMNS \"MARCA\""
   ]
  },
  {
   "cell_type": "code",
   "execution_count": 26,
   "metadata": {},
   "outputs": [
    {
     "data": {
      "text/html": [
       "<div>\n",
       "<style scoped>\n",
       "    .dataframe tbody tr th:only-of-type {\n",
       "        vertical-align: middle;\n",
       "    }\n",
       "\n",
       "    .dataframe tbody tr th {\n",
       "        vertical-align: top;\n",
       "    }\n",
       "\n",
       "    .dataframe thead th {\n",
       "        text-align: right;\n",
       "    }\n",
       "</style>\n",
       "<table border=\"1\" class=\"dataframe\">\n",
       "  <thead>\n",
       "    <tr style=\"text-align: right;\">\n",
       "      <th></th>\n",
       "      <th>Tipo_poliza</th>\n",
       "      <th>Valor_Asegurado</th>\n",
       "      <th>Fecha_Emisión</th>\n",
       "      <th>Fecha_Inicio</th>\n",
       "      <th>Fecha_fin</th>\n",
       "      <th>Valor_prima_Anual</th>\n",
       "      <th>Valor_asegurado_Vehiculo</th>\n",
       "      <th>Ciudad</th>\n",
       "      <th>DEPARTAMENTO</th>\n",
       "      <th>OCUPACION</th>\n",
       "      <th>EDAD</th>\n",
       "      <th>MARCA</th>\n",
       "      <th>REF1</th>\n",
       "      <th>REF2</th>\n",
       "      <th>REF3</th>\n",
       "      <th>CLASE</th>\n",
       "      <th>Modelo_del_Vehiculo</th>\n",
       "      <th>COLOR</th>\n",
       "      <th>GENERO</th>\n",
       "      <th>Y_Fecha_Emisión</th>\n",
       "      <th>M_Fecha_Emisión</th>\n",
       "      <th>Y_Fecha_Inicio</th>\n",
       "      <th>M_Fecha_Inicio</th>\n",
       "      <th>Y_Fecha_fin</th>\n",
       "      <th>M_Fecha_fin</th>\n",
       "      <th>MT_AT_TP_REF3</th>\n",
       "      <th>CC_REF3</th>\n",
       "    </tr>\n",
       "  </thead>\n",
       "  <tbody>\n",
       "    <tr>\n",
       "      <th>0</th>\n",
       "      <td>Renovacion</td>\n",
       "      <td>684689000</td>\n",
       "      <td>2011-10-10</td>\n",
       "      <td>2011-11-21</td>\n",
       "      <td>2012-11-21</td>\n",
       "      <td>782949.0</td>\n",
       "      <td>18800000</td>\n",
       "      <td>CARTAGENA</td>\n",
       "      <td>BOLIVAR</td>\n",
       "      <td>EMPLEADO(A)</td>\n",
       "      <td>45.0</td>\n",
       "      <td>CHEVROLET</td>\n",
       "      <td>AVEO</td>\n",
       "      <td>FAMILY</td>\n",
       "      <td>MT 1500CC 4P AA</td>\n",
       "      <td>AUTOMOVIL</td>\n",
       "      <td>2010.0</td>\n",
       "      <td>NEGRO EBONY</td>\n",
       "      <td>MASCULINO</td>\n",
       "      <td>2011</td>\n",
       "      <td>10</td>\n",
       "      <td>2011</td>\n",
       "      <td>11</td>\n",
       "      <td>2012</td>\n",
       "      <td>11</td>\n",
       "      <td>MT</td>\n",
       "      <td>1500</td>\n",
       "    </tr>\n",
       "    <tr>\n",
       "      <th>1</th>\n",
       "      <td>Nuevo</td>\n",
       "      <td>965205600</td>\n",
       "      <td>2011-10-10</td>\n",
       "      <td>2011-10-05</td>\n",
       "      <td>2012-10-05</td>\n",
       "      <td>715824.0</td>\n",
       "      <td>24900000</td>\n",
       "      <td>BOGOTA D.C.</td>\n",
       "      <td>CUNDINAMARCA</td>\n",
       "      <td>EMPLEADO(A)</td>\n",
       "      <td>41.0</td>\n",
       "      <td>CHEVROLET</td>\n",
       "      <td>AVEO EMOTION</td>\n",
       "      <td>1.6L</td>\n",
       "      <td>MT 1600CC AA 2AB ABS</td>\n",
       "      <td>AUTOMOVIL</td>\n",
       "      <td>2009.0</td>\n",
       "      <td>BLANCO ARCO BICAPA</td>\n",
       "      <td>MASCULINO</td>\n",
       "      <td>2011</td>\n",
       "      <td>10</td>\n",
       "      <td>2011</td>\n",
       "      <td>10</td>\n",
       "      <td>2012</td>\n",
       "      <td>10</td>\n",
       "      <td>MT</td>\n",
       "      <td>1600</td>\n",
       "    </tr>\n",
       "  </tbody>\n",
       "</table>\n",
       "</div>"
      ],
      "text/plain": [
       "  Tipo_poliza  Valor_Asegurado Fecha_Emisión Fecha_Inicio   Fecha_fin  \\\n",
       "0  Renovacion        684689000    2011-10-10   2011-11-21  2012-11-21   \n",
       "1       Nuevo        965205600    2011-10-10   2011-10-05  2012-10-05   \n",
       "\n",
       "   Valor_prima_Anual  Valor_asegurado_Vehiculo       Ciudad  DEPARTAMENTO  \\\n",
       "0           782949.0                  18800000    CARTAGENA       BOLIVAR   \n",
       "1           715824.0                  24900000  BOGOTA D.C.  CUNDINAMARCA   \n",
       "\n",
       "     OCUPACION  EDAD      MARCA          REF1    REF2                  REF3  \\\n",
       "0  EMPLEADO(A)  45.0  CHEVROLET          AVEO  FAMILY       MT 1500CC 4P AA   \n",
       "1  EMPLEADO(A)  41.0  CHEVROLET  AVEO EMOTION    1.6L  MT 1600CC AA 2AB ABS   \n",
       "\n",
       "       CLASE  Modelo_del_Vehiculo               COLOR     GENERO  \\\n",
       "0  AUTOMOVIL               2010.0         NEGRO EBONY  MASCULINO   \n",
       "1  AUTOMOVIL               2009.0  BLANCO ARCO BICAPA  MASCULINO   \n",
       "\n",
       "   Y_Fecha_Emisión  M_Fecha_Emisión  Y_Fecha_Inicio  M_Fecha_Inicio  \\\n",
       "0             2011               10            2011              11   \n",
       "1             2011               10            2011              10   \n",
       "\n",
       "   Y_Fecha_fin  M_Fecha_fin MT_AT_TP_REF3  CC_REF3  \n",
       "0         2012           11            MT     1500  \n",
       "1         2012           10            MT     1600  "
      ]
     },
     "execution_count": 26,
     "metadata": {},
     "output_type": "execute_result"
    }
   ],
   "source": [
    "df.head(2)"
   ]
  },
  {
   "cell_type": "code",
   "execution_count": null,
   "metadata": {},
   "outputs": [],
   "source": [
    "X = df.drop(['Valor_prima_Anual', 'REF1', 'REF2', 'REF3', 'Fecha_Emisión', 'Fecha_Inicio', 'Fecha_fin'], axis=1)\n",
    "Y = df['Valor_prima_Anual']\n",
    "\n",
    "X_train, X_test, y_train, y_test = train_test_split(X, Y, test_size=0.2, random_state=42)"
   ]
  },
  {
   "cell_type": "code",
   "execution_count": null,
   "metadata": {},
   "outputs": [],
   "source": [
    "X_train.head(2)"
   ]
  },
  {
   "cell_type": "code",
   "execution_count": null,
   "metadata": {},
   "outputs": [],
   "source": [
    "numeric_features = X_train.select_dtypes(include=['int64', 'float64']).columns\n",
    "categorical_features = X_train.select_dtypes(include=['object', 'category']).columns\n",
    "\n",
    "from sklearn.compose import ColumnTransformer\n",
    "\n",
    "preprocessor = ColumnTransformer(\n",
    "    transformers=[\n",
    "        ('num', numeric_transformer, numeric_features),\n",
    "        ('cat', categorical_transformer, categorical_features)])"
   ]
  },
  {
   "cell_type": "code",
   "execution_count": null,
   "metadata": {},
   "outputs": [],
   "source": [
    "from sklearn.metrics import mean_absolute_error, mean_squared_error, r2_score\n",
    "\n",
    "from sklearn.linear_model import LinearRegression\n",
    "from sklearn.neighbors import KNeighborsRegressor\n",
    "from sklearn.svm import SVR, LinearSVR, NuSVR\n",
    "from sklearn.tree import DecisionTreeRegressor\n",
    "from sklearn.ensemble import RandomForestRegressor, AdaBoostRegressor, GradientBoostingRegressor\n",
    "\n",
    "from sklearn.discriminant_analysis import LinearDiscriminantAnalysis\n",
    "from sklearn.discriminant_analysis import QuadraticDiscriminantAnalysis\n",
    "\n",
    "from xgboost import XGBRegressor\n",
    "from lightgbm import LGBMRegressor\n",
    "\n",
    "regressors = [\n",
    "    LinearRegression(),\n",
    "    # KNeighborsRegressor(3),\n",
    "    # SVR(kernel=\"rbf\", C=0.025),\n",
    "    # DecisionTreeRegressor(),\n",
    "    # RandomForestRegressor(),\n",
    "    # AdaBoostRegressor(),\n",
    "    # GradientBoostingRegressor(),\n",
    "    # XGBRegressor(),\n",
    "    LGBMRegressor()\n",
    "    ]\n",
    "for regressor in regressors:\n",
    "    pipe = Pipeline(steps=[('preprocessor', preprocessor),\n",
    "                      ('regressor', regressor)])\n",
    "    pipe.fit(X_train, y_train)   \n",
    "    y_pred = pipe.predict(X_test)\n",
    "    print(regressor)\n",
    "    print(\"model MAE : \" , mean_absolute_error(y_test, y_pred))\n",
    "    print(\"model MSE : \" ,  mean_squared_error(y_test, y_pred))\n",
    "    print(\"model R2  : \" ,  r2_score(y_test, y_pred))"
   ]
  },
  {
   "cell_type": "markdown",
   "metadata": {},
   "source": [
    "# CONCLUSION OF MODELING AND TESTING"
   ]
  },
  {
   "cell_type": "markdown",
   "metadata": {},
   "source": [
    "1. The first thing to do to improve the results of a prediction model is try to figure out the high feature engineering, after this try to do a hyperruning to your model. \n",
    "2. using others models the time to train the model was so long (2 hrs), due to the amount of unique values of certain values\n",
    "3. Even doing some transformations on those columns, the time was so long, I decided to work only with LR and LGBMR\n",
    "4. Doing some feature engineering on the columns like REF, FECHAS and others I could increase the R2 from 0.8 to 0.9"
   ]
  },
  {
   "cell_type": "markdown",
   "metadata": {},
   "source": [
    "# BEST MODEL = LGBMRegressor\n",
    "model MAE :  92779.1713959528 <br>\n",
    "model MSE :  24875340462.45637 <br>\n",
    "model R2  :  0.9004703342263928"
   ]
  },
  {
   "cell_type": "code",
   "execution_count": null,
   "metadata": {},
   "outputs": [],
   "source": [
    "LGBMRegressor()"
   ]
  },
  {
   "cell_type": "markdown",
   "metadata": {},
   "source": [
    "# BONUS = Let´s add a new feture \"ANTIGUEDAD\", and let´s see how is its behaviour"
   ]
  },
  {
   "cell_type": "markdown",
   "metadata": {},
   "source": [
    "# RUN #5"
   ]
  },
  {
   "cell_type": "code",
   "execution_count": 27,
   "metadata": {},
   "outputs": [],
   "source": [
    "df2 = pd.read_csv('DB_Valor_Prima_Anual_Cleaned_antiguedadCol.csv')"
   ]
  },
  {
   "cell_type": "code",
   "execution_count": 28,
   "metadata": {},
   "outputs": [],
   "source": [
    "df2['Y_Fecha_Emisión'] = pd.DatetimeIndex(df2['Fecha_Emisión']).year\n",
    "\n",
    "df2['M_Fecha_Emisión'] = pd.DatetimeIndex(df2['Fecha_Emisión']).month\n",
    "\n",
    "df2['Y_Fecha_Inicio'] = pd.DatetimeIndex(df2['Fecha_Inicio']).year\n",
    "\n",
    "df2['M_Fecha_Inicio'] = pd.DatetimeIndex(df2['Fecha_Inicio']).month\n",
    "\n",
    "df2['Y_Fecha_fin'] = pd.DatetimeIndex(df2['Fecha_fin']).year\n",
    "\n",
    "df2['M_Fecha_fin'] = pd.DatetimeIndex(df2['Fecha_fin']).month"
   ]
  },
  {
   "cell_type": "code",
   "execution_count": 29,
   "metadata": {},
   "outputs": [],
   "source": [
    "df2['MT_AT_TP_REF3'] = df2['REF3'].astype(str).str[0:2]"
   ]
  },
  {
   "cell_type": "code",
   "execution_count": 30,
   "metadata": {},
   "outputs": [],
   "source": [
    "df2['CC_REF3'] = df2['REF3'].str.extract('(\\d+)')\n",
    "df2['CC_REF3'].unique()\n",
    "df2['CC_REF3'] = df2['CC_REF3'].astype('int64')"
   ]
  },
  {
   "cell_type": "code",
   "execution_count": 31,
   "metadata": {},
   "outputs": [],
   "source": [
    "X = df2.drop(['Valor_prima_Anual', 'REF1', 'REF2', 'REF3', 'Fecha_Emisión', 'Fecha_Inicio', 'Fecha_fin'], axis=1)\n",
    "Y = df2['Valor_prima_Anual']\n",
    "\n",
    "X_train, X_test, y_train, y_test = train_test_split(X, Y, test_size=0.2, random_state=42)"
   ]
  },
  {
   "cell_type": "code",
   "execution_count": null,
   "metadata": {},
   "outputs": [],
   "source": [
    "X_train.head(3)"
   ]
  },
  {
   "cell_type": "code",
   "execution_count": null,
   "metadata": {},
   "outputs": [],
   "source": [
    "numeric_features = X_train.select_dtypes(include=['int64', 'float64']).columns\n",
    "categorical_features = X_train.select_dtypes(include=['object', 'category']).columns\n",
    "\n",
    "from sklearn.compose import ColumnTransformer\n",
    "\n",
    "preprocessor = ColumnTransformer(\n",
    "    transformers=[\n",
    "        ('num', numeric_transformer, numeric_features),\n",
    "        ('cat', categorical_transformer, categorical_features)])"
   ]
  },
  {
   "cell_type": "code",
   "execution_count": null,
   "metadata": {},
   "outputs": [],
   "source": [
    "from sklearn.metrics import mean_absolute_error, mean_squared_error, r2_score\n",
    "\n",
    "from sklearn.linear_model import LinearRegression\n",
    "from sklearn.neighbors import KNeighborsRegressor\n",
    "from sklearn.svm import SVR, LinearSVR, NuSVR\n",
    "from sklearn.tree import DecisionTreeRegressor\n",
    "from sklearn.ensemble import RandomForestRegressor, AdaBoostRegressor, GradientBoostingRegressor\n",
    "\n",
    "from sklearn.discriminant_analysis import LinearDiscriminantAnalysis\n",
    "from sklearn.discriminant_analysis import QuadraticDiscriminantAnalysis\n",
    "\n",
    "from xgboost import XGBRegressor\n",
    "from lightgbm import LGBMRegressor\n",
    "\n",
    "regressors = [\n",
    "    LinearRegression(),\n",
    "    # KNeighborsRegressor(3),\n",
    "    # SVR(kernel=\"rbf\", C=0.025),\n",
    "    # DecisionTreeRegressor(),\n",
    "    # RandomForestRegressor(),\n",
    "    # AdaBoostRegressor(),\n",
    "    # GradientBoostingRegressor(),\n",
    "    # XGBRegressor(),\n",
    "    LGBMRegressor()\n",
    "    ]\n",
    "for regressor in regressors:\n",
    "    pipe = Pipeline(steps=[('preprocessor', preprocessor),\n",
    "                      ('regressor', regressor)])\n",
    "    pipe.fit(X_train, y_train)   \n",
    "    y_pred = pipe.predict(X_test)\n",
    "    print(regressor)\n",
    "    print(\"model MAE : \" , mean_absolute_error(y_test, y_pred))\n",
    "    print(\"model MSE : \" ,  mean_squared_error(y_test, y_pred))\n",
    "    print(\"model R2  : \" ,  r2_score(y_test, y_pred))"
   ]
  },
  {
   "cell_type": "markdown",
   "metadata": {},
   "source": [
    "it increase but a little "
   ]
  },
  {
   "cell_type": "markdown",
   "metadata": {},
   "source": [
    "# FEATURE IMPORTANCE"
   ]
  },
  {
   "cell_type": "markdown",
   "metadata": {},
   "source": [
    "## With feature importance we could see the variables that we need to concern about, the most important variables to the machine."
   ]
  },
  {
   "cell_type": "code",
   "execution_count": null,
   "metadata": {},
   "outputs": [],
   "source": [
    "import lightgbm"
   ]
  },
  {
   "cell_type": "code",
   "execution_count": null,
   "metadata": {},
   "outputs": [],
   "source": [
    "\n",
    "feature= df.drop(['Valor_prima_Anual', 'REF1', 'REF2', 'REF3', 'Fecha_Emisión', 'Fecha_Inicio', 'Fecha_fin'], axis=1)\n",
    "target= df[['Valor_prima_Anual']]\n",
    "feature_train, feature_test, target_train, target_test= train_test_split(feature, target, test_size=0.12)"
   ]
  },
  {
   "cell_type": "code",
   "execution_count": null,
   "metadata": {},
   "outputs": [],
   "source": [
    "print('total feature training features: ', len(feature_train))\n",
    "print('total feature testing features: ', len(feature_test))\n",
    "print('total target training features: ', len(target_train))\n",
    "print('total target testing features: ', len(target_test))"
   ]
  },
  {
   "cell_type": "code",
   "execution_count": null,
   "metadata": {},
   "outputs": [],
   "source": [
    "feature_train.shape , target_train.shape\n",
    "\n"
   ]
  },
  {
   "cell_type": "code",
   "execution_count": null,
   "metadata": {},
   "outputs": [],
   "source": [
    "train_data = lightgbm.Dataset(feature_train, label=target_train, categorical_feature=categorical_features)\n",
    "test_data = lightgbm.Dataset(feature_test, label=target_test)"
   ]
  },
  {
   "cell_type": "code",
   "execution_count": null,
   "metadata": {},
   "outputs": [],
   "source": [
    "#basic parameter:\n",
    "parameters = {\n",
    "    'application': 'binary',\n",
    "    'objective': 'binary',\n",
    "    'metric': 'auc',\n",
    "    'is_unbalance': 'true',\n",
    "    'boosting': 'gbdt',\n",
    "    'num_leaves': 31,\n",
    "    'feature_fraction': 0.5,\n",
    "    'bagging_fraction': 0.5,\n",
    "    'bagging_freq': 20,\n",
    "    'learning_rate': 0.05,\n",
    "    'verbose': 0\n",
    "}"
   ]
  },
  {
   "cell_type": "code",
   "execution_count": null,
   "metadata": {},
   "outputs": [],
   "source": [
    "model = lightgbm.train(parameters,\n",
    "                       train_data,\n",
    "                       valid_sets=test_data,\n",
    "                       num_boost_round=5000,\n",
    "                       early_stopping_rounds=100)"
   ]
  },
  {
   "cell_type": "markdown",
   "metadata": {},
   "source": [
    "# HYPERPARAMETER TUNNING"
   ]
  },
  {
   "cell_type": "code",
   "execution_count": null,
   "metadata": {},
   "outputs": [],
   "source": [
    "X = df.drop(['Valor_prima_Anual', 'REF1', 'REF2', 'REF3', 'Fecha_Emisión', 'Fecha_Inicio', 'Fecha_fin'], axis=1)\n",
    "Y = df['Valor_prima_Anual']\n",
    "\n",
    "X_train, X_test, y_train, y_test = train_test_split(X, Y, test_size=0.2, random_state=42)"
   ]
  },
  {
   "cell_type": "code",
   "execution_count": null,
   "metadata": {},
   "outputs": [],
   "source": [
    "preprocessor = ColumnTransformer(\n",
    "    transformers=[\n",
    "        ('num', numeric_transformer, numeric_features),\n",
    "        ('cat', categorical_transformer, categorical_features)])"
   ]
  },
  {
   "cell_type": "code",
   "execution_count": null,
   "metadata": {},
   "outputs": [],
   "source": [
    "X_train.head(2)"
   ]
  },
  {
   "cell_type": "code",
   "execution_count": null,
   "metadata": {},
   "outputs": [],
   "source": [
    "from sklearn.model_selection import KFold, cross_val_score, GridSearchCV"
   ]
  },
  {
   "cell_type": "code",
   "execution_count": null,
   "metadata": {},
   "outputs": [],
   "source": [
    "LGBMR = LGBMRegressor()\n",
    "\n",
    "LGBMR_param_grid = {'objective':['regression','dart','goss','rf'],\n",
    "                    'num_leaves':[7],\n",
    "                    'learning_rate':[0.01], \n",
    "                    'n_estimators': [3300],\n",
    "                    'max_depth':[4], \n",
    "                    'max_bin': [65],\n",
    "                    'bagging_fraction':[0.6],\n",
    "                    'bagging_freq':[9], \n",
    "                    'feature_fraction':[0.1],\n",
    "                    'feature_fraction_seed':[1],\n",
    "                    'bagging_seed':[14],\n",
    "                    'min_data_in_leaf':[5], \n",
    "                    'min_sum_hessian_in_leaf':[5],\n",
    "                    'colsample_bytree':[0],\n",
    "                    'reg_alpha':[0.2],\n",
    "                    'reg_lambda':[0.1]}\n",
    "\n",
    "gsLGBMR = GridSearchCV(LGBMR, \n",
    "                      param_grid = LGBMR_param_grid, \n",
    "                      cv = 10, \n",
    "                      scoring = \"neg_mean_squared_error\", \n",
    "                      n_jobs = -1, \n",
    "                      verbose = 1)\n",
    "\n",
    "gsLGBMR.fit(X_train,y_train)\n",
    "\n",
    "LGBMR_best = gsLGBMR.best_estimator_\n",
    "\n",
    "gsLGBMR.best_score_"
   ]
  },
  {
   "cell_type": "markdown",
   "metadata": {},
   "source": [
    "# CONCLUSION HYPERTUNING AND FEATURING IMPORTANCES"
   ]
  },
  {
   "cell_type": "markdown",
   "metadata": {},
   "source": [
    "1. Its necesary to do an optimal hypertuning, but due to the lack of time I couldnt finish it.\n",
    "2. Look for the feature importances allow us to focus on the activities that boost the business\n",
    "3. Would be a great idea to develop a PowerBI or TABLEAU project."
   ]
  },
  {
   "cell_type": "markdown",
   "metadata": {},
   "source": []
  },
  {
   "cell_type": "markdown",
   "metadata": {},
   "source": [
    "# HYPERTUNNING WITH PIPELINE"
   ]
  },
  {
   "cell_type": "code",
   "execution_count": 33,
   "metadata": {},
   "outputs": [],
   "source": [
    "from lightgbm import LGBMRegressor\n",
    "\n",
    "LGBMR = Pipeline(steps=[('preprocessor', preprocessor),\n",
    "                      ('classifier', LGBMRegressor())])"
   ]
  },
  {
   "cell_type": "code",
   "execution_count": 42,
   "metadata": {},
   "outputs": [
    {
     "name": "stdout",
     "output_type": "stream",
     "text": [
      "{'classifier__max_depth': 9, 'classifier__n_estimators': 900}\n",
      "0.899200756272832\n"
     ]
    }
   ],
   "source": [
    "param_grid = { \n",
    "    'classifier__n_estimators': [600,900],\n",
    "    'classifier__max_depth' : [9,11]}\n",
    "from sklearn.model_selection import GridSearchCV\n",
    "CV = GridSearchCV(LGBMR, param_grid, n_jobs= 1)\n",
    "                  \n",
    "CV.fit(X_train, y_train)  \n",
    "print(CV.best_params_)    \n",
    "print(CV.best_score_)"
   ]
  }
 ],
 "metadata": {
  "interpreter": {
   "hash": "c94be41889154d41bf43aca8d1a8d1cd64b97c119170e03e2ed46ca87183f0c5"
  },
  "kernelspec": {
   "display_name": "Python 3.7.6 64-bit ('base': conda)",
   "name": "python3"
  },
  "language_info": {
   "codemirror_mode": {
    "name": "ipython",
    "version": 3
   },
   "file_extension": ".py",
   "mimetype": "text/x-python",
   "name": "python",
   "nbconvert_exporter": "python",
   "pygments_lexer": "ipython3",
   "version": "3.7.6"
  },
  "orig_nbformat": 4
 },
 "nbformat": 4,
 "nbformat_minor": 2
}
